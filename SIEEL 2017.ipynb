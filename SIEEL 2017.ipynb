{
 "cells": [
  {
   "cell_type": "markdown",
   "metadata": {},
   "source": [
    "# Python para Engenharia"
   ]
  },
  {
   "cell_type": "markdown",
   "metadata": {},
   "source": [
    "- Linguaguem de Código Aberto, criada em 1991 por Guido van Rossum;\n",
    "- Multiplataforma e Interpretada;\n",
    "- Foca a Legibilidade e Simplicidade;\n",
    "- Sintaxe dependente de Identação;\n",
    "- Multiparadigma: Estruturada, Funcional ou Orientada a Objetos\n",
    "- Atualmente, o desenvolvimento é realizado de forma aberta e comunitária através da [Python Software Foundation](https://www.python.org/psf/)."
   ]
  },
  {
   "cell_type": "markdown",
   "metadata": {
    "collapsed": true
   },
   "source": [
    "## Algumas Aplicações de Python\n",
    "- Desenvolvimento de sistemas Web\n",
    "- Programação Desktop\n",
    "- Computação Científica\n",
    "- Jogos"
   ]
  },
  {
   "cell_type": "markdown",
   "metadata": {},
   "source": [
    "## Alguns Gigantes que Utilizam Python\n",
    "![Gigantes que Utilizam Python](images/empresasQueUsamPython.png)"
   ]
  },
  {
   "cell_type": "markdown",
   "metadata": {},
   "source": [
    "## Python na Engenharia Elétrica\n",
    "### No ramo da Engenharia Elétrica, Python se faz presente em diversas aplicações, como:\n",
    "- Análise de Dados\n",
    "- Visualização de Dados\n",
    "- Geoprocessamento\n",
    "- Otimização\n",
    "- Processamento de Sinais\n",
    "- Aprendizagem de Máquina"
   ]
  },
  {
   "cell_type": "markdown",
   "metadata": {},
   "source": [
    "## Python 3.6\n",
    "- Nos sistemas Linux e MAC o python já vem pré-instalado.\n",
    "- Para instalar em sistemas Windows pode-se baixar o .exe direto de https://www.python.org/downloads/\n",
    "- Outra opção é utilizar a distribuição [Anaconda](https://www.continuum.io/downloads) (que já está instalada nos computadores do laboratório)"
   ]
  },
  {
   "cell_type": "markdown",
   "metadata": {},
   "source": [
    "# Contato Inicial com Python\n",
    "- Abra o Windows PowerShell (menu iniciar)\n",
    "- Digite \"python\" para abrir o Shell do Python"
   ]
  },
  {
   "cell_type": "code",
   "execution_count": null,
   "metadata": {},
   "outputs": [],
   "source": [
    "print('Hello World!')"
   ]
  },
  {
   "cell_type": "code",
   "execution_count": null,
   "metadata": {},
   "outputs": [],
   "source": [
    "1+1"
   ]
  },
  {
   "cell_type": "code",
   "execution_count": null,
   "metadata": {},
   "outputs": [],
   "source": [
    "2*3"
   ]
  },
  {
   "cell_type": "code",
   "execution_count": null,
   "metadata": {},
   "outputs": [],
   "source": [
    "2**3"
   ]
  },
  {
   "cell_type": "code",
   "execution_count": null,
   "metadata": {},
   "outputs": [],
   "source": [
    "4.0/3"
   ]
  },
  {
   "cell_type": "markdown",
   "metadata": {},
   "source": [
    "## Arquivos e Scripts .py\n",
    "Saia do terminal python em que estava, mas não feche a janela do Windows PowerShell. Digite:\n",
    "``` python\n",
    "exit()\n",
    "```\n",
    "Abra um editor de textos (bloco de notas) e entre com um código em Python, por exemplo:\n",
    "``` python\n",
    "print(\" Hello World \")\n",
    "print(\" 2*2 \")\n",
    "```\n",
    "Salve o arquivo texto com a extensão .py (por exemplo: myFirstPythonCode.py)\n",
    "Navegue (via terminal) até o diretório em que o arquivo .py foi salvo e o execute:\n",
    "``` Bash\n",
    "cd diretorio_do_arquivo_ponto_py/\n",
    "python myFirstPythonCode.py\n",
    "```"
   ]
  },
  {
   "cell_type": "code",
   "execution_count": null,
   "metadata": {},
   "outputs": [],
   "source": [
    "%run -i myFirstPythonCode.py"
   ]
  },
  {
   "cell_type": "markdown",
   "metadata": {},
   "source": [
    "## IDEs\n",
    "\n",
    "Pode-se utilizar qualquer editor de textos, por exemplo Gedit, Notepad++, Sublime Text, Bloco de Notas....\n",
    "\n",
    "Há também as IDEs (Integrated Development Environments), que são ambientes com ferramentas para auxiliar no desenvolvimento dos códigos. A distribuição anaconda acompanha a IDE Spyder, mas uma lista mais completa pode ser encontrada em http://wiki.python.org.br/IdesPython.\n"
   ]
  },
  {
   "cell_type": "markdown",
   "metadata": {},
   "source": [
    "## IDE Spyder\n",
    "Entender as seguintes Funcionalidades\n",
    "- Editor\n",
    "- Console interativo\n",
    "- Documentação\n",
    "- Explorador de Variáveis\n",
    "- Execução em Blocos\n",
    "- Executar Script\n"
   ]
  },
  {
   "cell_type": "markdown",
   "metadata": {},
   "source": [
    "# Tipos de Dados\n",
    "\n",
    "Os formatos nativos do Python são:\n",
    "- Listas: conjunto de objetos\n",
    "- Dicionários: \"memórias associativas\"\n",
    "- Tuplas: conjuntos imutáveis de dados\n",
    "- Sets: conjunto de valores únicos"
   ]
  },
  {
   "cell_type": "code",
   "execution_count": null,
   "metadata": {
    "scrolled": true
   },
   "outputs": [],
   "source": [
    "lista = [1,2,3,4,4,4,4]\n",
    "print(lista)\n",
    "Dicionario = {'Chave1':'Valor1', 'Chave2':'Valor2'}\n",
    "print(Dicionario)\n",
    "Tupla = (1,2)\n",
    "print(Tupla)\n",
    "Set = set(lista)\n",
    "print(Set)"
   ]
  },
  {
   "cell_type": "code",
   "execution_count": null,
   "metadata": {},
   "outputs": [],
   "source": [
    "#Em caso de dúvidas utilizar o comando nativo\n",
    "print(type(lista))\n",
    "print(type(Dicionario))\n",
    "print(type(Tupla))\n",
    "print(type(Set))"
   ]
  },
  {
   "cell_type": "code",
   "execution_count": null,
   "metadata": {},
   "outputs": [],
   "source": [
    "#Bibliotecas de terceiros podem possuir differentes tipos de dados\n",
    "import numpy as np\n",
    "array = np.array([1,2,3])\n",
    "print(type(array))"
   ]
  },
  {
   "cell_type": "markdown",
   "metadata": {},
   "source": [
    "# Estruturas de Controle de Fluxo\n",
    "\n",
    "Em python existem três laços de controle:\n",
    "\n",
    "- If\n",
    "- For\n",
    "- While"
   ]
  },
  {
   "cell_type": "markdown",
   "metadata": {},
   "source": [
    "### If:"
   ]
  },
  {
   "cell_type": "code",
   "execution_count": null,
   "metadata": {},
   "outputs": [],
   "source": [
    "x = 1\n",
    "if x > 1:\n",
    "    print(\"x maior do que 1\")\n",
    "elif x == 1:\n",
    "    print(\"x igual a 1\")\n",
    "else:\n",
    "    print(\"x menor do que 1\")"
   ]
  },
  {
   "cell_type": "markdown",
   "metadata": {},
   "source": [
    "### For"
   ]
  },
  {
   "cell_type": "code",
   "execution_count": null,
   "metadata": {},
   "outputs": [],
   "source": [
    "x = [1,2,3,4]\n",
    "for num in x:\n",
    "    if(num % 2 == 0):\n",
    "        print(\"%d é par\" %(num))\n",
    "    else:\n",
    "        print(\"%d é impar\" %(num))"
   ]
  },
  {
   "cell_type": "markdown",
   "metadata": {},
   "source": [
    "### While"
   ]
  },
  {
   "cell_type": "code",
   "execution_count": null,
   "metadata": {},
   "outputs": [],
   "source": [
    "contador = 0\n",
    "while contador < 100:\n",
    "    contador += 1\n",
    "print(contador)"
   ]
  },
  {
   "cell_type": "markdown",
   "metadata": {},
   "source": [
    "# Funções em Python\n",
    "\n",
    "Definindo uma função:"
   ]
  },
  {
   "cell_type": "code",
   "execution_count": null,
   "metadata": {
    "collapsed": true
   },
   "outputs": [],
   "source": [
    "def soma(var1,var2):\n",
    "    \"\"\"\n",
    "    retorna a soma \n",
    "    \"\"\"\n",
    "    #operações da funcao\n",
    "    var3 = var1 + var2\n",
    "    \n",
    "    return var3"
   ]
  },
  {
   "cell_type": "markdown",
   "metadata": {},
   "source": [
    "Executando a função soma"
   ]
  },
  {
   "cell_type": "code",
   "execution_count": null,
   "metadata": {},
   "outputs": [],
   "source": [
    "lista = [1, 2, 3, 4, 5, 6, 7, 8, 9]\n",
    "for ii in lista:\n",
    "    print(soma(ii, 1))"
   ]
  },
  {
   "cell_type": "markdown",
   "metadata": {},
   "source": [
    "## Manipulando strings\n",
    "\n",
    "Função split():"
   ]
  },
  {
   "cell_type": "code",
   "execution_count": null,
   "metadata": {},
   "outputs": [],
   "source": [
    "\"teste função split\".split()"
   ]
  },
  {
   "cell_type": "code",
   "execution_count": null,
   "metadata": {},
   "outputs": [],
   "source": [
    "\"Função split, e os parametros\".split(',')"
   ]
  },
  {
   "cell_type": "markdown",
   "metadata": {},
   "source": [
    "O valor padrão da função split é o caracter espaço."
   ]
  },
  {
   "cell_type": "code",
   "execution_count": null,
   "metadata": {},
   "outputs": [],
   "source": [
    "\"Função split, e os parametros\".split()"
   ]
  },
  {
   "cell_type": "markdown",
   "metadata": {},
   "source": [
    "A função split retorna uma lista com as sub-strings obtidas.\n",
    "Pode-se checar o número de sub-strings (ou palvras na string original) com o método built-in len()"
   ]
  },
  {
   "cell_type": "code",
   "execution_count": null,
   "metadata": {},
   "outputs": [],
   "source": [
    "print(\"teste função split\".split())\n",
    "len(\"teste função split\".split())"
   ]
  },
  {
   "cell_type": "markdown",
   "metadata": {},
   "source": [
    "## Exercício:\n",
    "### Crie um contador de palavras em Python\n",
    "Abra o arquivo SIEEL_2017.txt e imprima o texto"
   ]
  },
  {
   "cell_type": "code",
   "execution_count": null,
   "metadata": {},
   "outputs": [],
   "source": [
    "#Função nativa de leitura de arquivos\n",
    "with open(\"SIEEL_2017.txt\",\"r\") as f:\n",
    "    data = f.read()\n",
    "print(data)"
   ]
  },
  {
   "cell_type": "markdown",
   "metadata": {},
   "source": [
    "Percorrendo a variável data e contando o número de palavras ..."
   ]
  },
  {
   "cell_type": "code",
   "execution_count": null,
   "metadata": {
    "collapsed": true
   },
   "outputs": [],
   "source": [
    "def contador_de_palavras(data):\n",
    "    # seu código aqui\n",
    "    return "
   ]
  },
  {
   "cell_type": "markdown",
   "metadata": {},
   "source": [
    "# Manipulando Gráficos em Python"
   ]
  },
  {
   "cell_type": "markdown",
   "metadata": {},
   "source": [
    "## Visualizando Gráficos de Funções\n",
    "$y = 2t$"
   ]
  },
  {
   "cell_type": "code",
   "execution_count": null,
   "metadata": {},
   "outputs": [],
   "source": [
    "# importando bibliotecas auxiliares\n",
    "import numpy as np # biblioteca para cálculos e operações numéricas\n",
    "import matplotlib.pyplot as plt # biblioteca para\n",
    "\n",
    "# %matplotlib inline é apenas para ser utilizado neste ambiente do Jupyter\n",
    "%matplotlib inline\n",
    "figsize = (15, 10)\n",
    "# gerando os vetores de pontos t e y\n",
    "t = np.arange(0. , 5., 0.2) # gerando o vetor com os dados da variável t\n",
    "y = 2*t # gerando o vetor com os dados da variável y\n",
    "\n",
    "# plotando os pontos de t e y\n",
    "plt.figure(figsize=figsize)\n",
    "plt.plot(t, y)\n",
    "plt.show()"
   ]
  },
  {
   "cell_type": "markdown",
   "metadata": {},
   "source": [
    "$y = t^2$"
   ]
  },
  {
   "cell_type": "code",
   "execution_count": null,
   "metadata": {},
   "outputs": [],
   "source": [
    "# gerando os vetores de pontos t e y\n",
    "t = np.arange(0. , 5., 0.2) # gerando o vetor com os dados da variável t\n",
    "y = 2**t # gerando o vetor com os dados da variável y\n",
    "\n",
    "# plotando os pontos de t e y\n",
    "plt.figure(figsize=figsize)\n",
    "plt.plot(t, y)\n",
    "plt.show()"
   ]
  },
  {
   "cell_type": "markdown",
   "metadata": {},
   "source": [
    "## Função Seno\n",
    "- $y_1 = sin(t)$, para $t$ no intervalo fechado $[0, 10\\pi]$"
   ]
  },
  {
   "cell_type": "code",
   "execution_count": null,
   "metadata": {},
   "outputs": [],
   "source": [
    "t = np.arange(0. , 10*np.pi, 0.2)\n",
    "y_1 = np.sin(t)\n",
    "\n",
    "plt.figure(figsize=figsize)\n",
    "plt.plot(t, y_1)\n",
    "plt.show()"
   ]
  },
  {
   "cell_type": "markdown",
   "metadata": {},
   "source": [
    "## Exponenciais negativas\n",
    "- $y_2 = e^{-t/5}$, para $t$ no intervalo fechado $[0, 10\\pi]$"
   ]
  },
  {
   "cell_type": "code",
   "execution_count": null,
   "metadata": {},
   "outputs": [],
   "source": [
    "y_2 = np.exp(-t/5)\n",
    "\n",
    "plt.figure(figsize=figsize)\n",
    "plt.plot(t, y_2)\n",
    "plt.show()"
   ]
  },
  {
   "cell_type": "markdown",
   "metadata": {},
   "source": [
    "- $y_3 = -e^{-t/5}$, para $t$ no intervalo fechado $[0, 10\\pi]$"
   ]
  },
  {
   "cell_type": "code",
   "execution_count": null,
   "metadata": {},
   "outputs": [],
   "source": [
    "y_3 = -np.exp(-t/5)\n",
    "\n",
    "plt.figure(figsize=figsize)\n",
    "plt.plot(t, y_3)\n",
    "plt.show()"
   ]
  },
  {
   "cell_type": "markdown",
   "metadata": {},
   "source": [
    "## Oscilação Amortecida\n",
    "- $y_4 = e^{-t}sin(t)$, para $t$ no intervalo fechado $[0, 2\\pi]$"
   ]
  },
  {
   "cell_type": "code",
   "execution_count": null,
   "metadata": {},
   "outputs": [],
   "source": [
    "y_4 = np.exp(-t/5)*np.sin(t)\n",
    "\n",
    "plt.figure(figsize=figsize)\n",
    "plt.plot(t, y_4)\n",
    "plt.show()"
   ]
  },
  {
   "cell_type": "markdown",
   "metadata": {},
   "source": [
    "## Manipulando gráficos\n",
    "Plotar as funções $y_1$, $y_2$, $y_3$ e $y_4$ no mesmo gráfico\n"
   ]
  },
  {
   "cell_type": "code",
   "execution_count": null,
   "metadata": {},
   "outputs": [],
   "source": [
    "plt.figure(figsize=figsize)\n",
    "plt.plot(t, y_1, t, y_2, t, y_3, t, y_4)\n",
    "plt.show()"
   ]
  },
  {
   "cell_type": "markdown",
   "metadata": {},
   "source": [
    "## Vamos ajustar o gráfico para melhorar a vizualização!"
   ]
  },
  {
   "cell_type": "code",
   "execution_count": null,
   "metadata": {},
   "outputs": [],
   "source": [
    "plt.figure(figsize=figsize)\n",
    "plt.plot(t, y_1, 'k--', linewidth=0.5, label='$y_1$')\n",
    "plt.plot(t, y_2, '--', linewidth=0.75, label='$y_2$')\n",
    "plt.plot(t, y_3, '--', linewidth=0.75, label='$y_3$')\n",
    "plt.plot(t, y_4, 'k', label='$y_4$')\n",
    "plt.legend()\n",
    "plt.title('Oscilação Amortecida')\n",
    "x_ticks = plt.xticks()\n",
    "plt.yticks([])\n",
    "plt.show()"
   ]
  },
  {
   "cell_type": "markdown",
   "metadata": {},
   "source": [
    "# Pandas\n",
    "Python Data Analysis Library: Traz algumas funcionalidades da linguagem R para o Python.\n",
    "\n",
    "Os dados são armazenados em DataFrames, que são estruturas organizadas em formato de tabelas com Colunas rotuladas."
   ]
  },
  {
   "cell_type": "markdown",
   "metadata": {
    "collapsed": true
   },
   "source": [
    "## Análise de um Conjunto de Dados das Vendas de um e-commerce\n",
    "\n",
    "Arquivo csv descrevendo as vendas de uma empresa de varejo.\n",
    "- Departamento do Produto\n",
    "- Categoria do Produto\n",
    "- Nome do Produto\n",
    "- Código do Produto\n",
    "- Data da Venda\n",
    "- ID do cliente\n",
    "- Idade do cliente\n",
    "- Sexo do cliente\n",
    "- Estado de entrega\n",
    "- Receita bruta\n",
    "- Custo do frete\n",
    "- Custo do produto\n",
    "\n",
    "## Leitura dos dados"
   ]
  },
  {
   "cell_type": "code",
   "execution_count": null,
   "metadata": {
    "collapsed": true
   },
   "outputs": [],
   "source": [
    "# Importação das bibliotecas necessárias\n",
    "import matplotlib . pyplot as plt\n",
    "import pandas as pd\n",
    "import numpy as np"
   ]
  },
  {
   "cell_type": "markdown",
   "metadata": {},
   "source": [
    " Leitura do arquivo em um DataFrame"
   ]
  },
  {
   "cell_type": "code",
   "execution_count": null,
   "metadata": {
    "collapsed": true
   },
   "outputs": [],
   "source": [
    "vendas = pd.read_csv('./dados/dados.csv', sep=';', decimal =',')"
   ]
  },
  {
   "cell_type": "markdown",
   "metadata": {},
   "source": [
    "### Visualizando os valores presentes no DataFrame\n",
    "Cabeçalho"
   ]
  },
  {
   "cell_type": "code",
   "execution_count": null,
   "metadata": {},
   "outputs": [],
   "source": [
    "vendas.head()"
   ]
  },
  {
   "cell_type": "markdown",
   "metadata": {},
   "source": [
    "Rodapé"
   ]
  },
  {
   "cell_type": "code",
   "execution_count": null,
   "metadata": {},
   "outputs": [],
   "source": [
    "vendas.tail()"
   ]
  },
  {
   "cell_type": "markdown",
   "metadata": {},
   "source": [
    "Colunas"
   ]
  },
  {
   "cell_type": "code",
   "execution_count": null,
   "metadata": {},
   "outputs": [],
   "source": [
    "vendas.columns"
   ]
  },
  {
   "cell_type": "markdown",
   "metadata": {},
   "source": [
    "Dimensões da Tabela"
   ]
  },
  {
   "cell_type": "code",
   "execution_count": null,
   "metadata": {},
   "outputs": [],
   "source": [
    "vendas.shape"
   ]
  },
  {
   "cell_type": "markdown",
   "metadata": {},
   "source": [
    "Estatísticas descritivas"
   ]
  },
  {
   "cell_type": "code",
   "execution_count": null,
   "metadata": {},
   "outputs": [],
   "source": [
    "vendas.describe()"
   ]
  },
  {
   "cell_type": "markdown",
   "metadata": {},
   "source": [
    "### Visualizando os dados\n",
    "Idade dos clientes"
   ]
  },
  {
   "cell_type": "code",
   "execution_count": null,
   "metadata": {},
   "outputs": [],
   "source": [
    "vendas.plot(y='cliente_idade', figsize=figsize)"
   ]
  },
  {
   "cell_type": "code",
   "execution_count": null,
   "metadata": {},
   "outputs": [],
   "source": [
    "vendas.plot.scatter(x='cliente_idade', y='receita_bruta', figsize=figsize)"
   ]
  },
  {
   "cell_type": "markdown",
   "metadata": {},
   "source": [
    "## Análise dos Dados\n",
    "\n",
    "Roteiro:\n",
    "1. Calcule a Receita Liquida: receita bruta - valor de imposto de venda;\n",
    "2. Agrupe as vendas por faixa de receita liquida (0-100; 100.1-200; 200.1-350; 350.1 - 550; >550.1);\n",
    "3. Verifique venda com Frete elevado (>R$50 em SP);\n",
    "4. Verificar qual o estado com mais vendas na semana 2014/50 (BlackFriday);\n",
    "5. Qual é o produto campeão de vendas?\n",
    "6. O Volume de vendas por Grupos (item 2) é uniforme?"
   ]
  },
  {
   "cell_type": "markdown",
   "metadata": {},
   "source": [
    "### Imposto e receita Líquida (item 1)"
   ]
  },
  {
   "cell_type": "code",
   "execution_count": null,
   "metadata": {
    "collapsed": true
   },
   "outputs": [],
   "source": [
    "# Voltar daqui atualizando o código e pegar do slide 74\n",
    "imposto = pd.read_csv('dados/imposto.csv')\n",
    "\n",
    "vendas['imposto_venda'] = 0\n",
    "vendas['receita_liquida'] = 0\n",
    "\n",
    "for categoria in imposto.columns:\n",
    "    vendas.loc[vendas['product_department']==categoria,\n",
    "               'imposto_venda'] = imposto.loc[0, categoria]\n",
    "\n",
    "vendas.loc[:, 'receita_liquida'] = vendas['receita_bruta']*(1 - vendas['imposto_venda'])"
   ]
  },
  {
   "cell_type": "markdown",
   "metadata": {
    "collapsed": true
   },
   "source": [
    "### Grupos de Receita Liquida (item 2)"
   ]
  },
  {
   "cell_type": "code",
   "execution_count": null,
   "metadata": {
    "collapsed": true
   },
   "outputs": [],
   "source": [
    "vendas['grupo'] = 0\n",
    "# Vendas de R$0.00 a R$100.00\n",
    "vendas.loc[(vendas['receita_liquida'] > 0)\n",
    "           & (vendas['receita_liquida'] <= 100), 'grupo'] = 1\n",
    "\n",
    "# Vendas de R$100.00 a R$200.00\n",
    "vendas.loc[(vendas['receita_liquida'] > 100)\n",
    "           & (vendas['receita_liquida'] <= 200), 'grupo'] = 2\n",
    "\n",
    "# Vendas de R$200.00 a R$350.00\n",
    "vendas.loc[(vendas['receita_liquida'] > 200)\n",
    "           & (vendas['receita_liquida'] <= 350), 'grupo'] = 3\n",
    "\n",
    "# Vendas de R$350.00 a R$550.00\n",
    "vendas.loc[(vendas['receita_liquida'] > 350)\n",
    "           & (vendas['receita_liquida'] <= 550), 'grupo'] = 4\n",
    "\n",
    "# Vendas acima de R$550.00\n",
    "vendas.loc[vendas['receita_liquida'] > 550, 'grupo'] = 5"
   ]
  },
  {
   "cell_type": "markdown",
   "metadata": {},
   "source": [
    "### Verificando Frete Elevado em SP (item 3)"
   ]
  },
  {
   "cell_type": "code",
   "execution_count": null,
   "metadata": {
    "collapsed": true
   },
   "outputs": [],
   "source": [
    "frete_elevado = vendas.loc[(vendas['custo_de_frete'] > 50)\n",
    "                           & (vendas['entrega_estado'] == 'SP'),\n",
    "                           ['custo_de_frete', 'entrega_estado']]"
   ]
  },
  {
   "cell_type": "markdown",
   "metadata": {},
   "source": [
    "### Estado o estado com mais vendas na semana 2014/50 (item 4)"
   ]
  },
  {
   "cell_type": "code",
   "execution_count": null,
   "metadata": {
    "collapsed": true
   },
   "outputs": [],
   "source": [
    "vendas_estados = vendas.loc[vendas.data_venda_ano_semana=='2014/50', :].groupby('entrega_estado').count().iloc[:, 0]"
   ]
  },
  {
   "cell_type": "code",
   "execution_count": null,
   "metadata": {},
   "outputs": [],
   "source": [
    "# visualizando o resultado do agrupamento\n",
    "print(vendas_estados)"
   ]
  },
  {
   "cell_type": "code",
   "execution_count": null,
   "metadata": {},
   "outputs": [],
   "source": [
    "# encontrando o máximo graficamente\n",
    "vendas_estados.plot.bar(figsize=figsize)"
   ]
  },
  {
   "cell_type": "markdown",
   "metadata": {},
   "source": [
    "### Produto Campeão de vendas (item 5)"
   ]
  },
  {
   "cell_type": "code",
   "execution_count": null,
   "metadata": {
    "collapsed": true
   },
   "outputs": [],
   "source": [
    "# Agrupando por produtos\n",
    "vendas_produtos = vendas.groupby('product_name').count().iloc[:, 0]"
   ]
  },
  {
   "cell_type": "code",
   "execution_count": null,
   "metadata": {},
   "outputs": [],
   "source": [
    "# imprimindo valores\n",
    "print(vendas_produtos)"
   ]
  },
  {
   "cell_type": "code",
   "execution_count": null,
   "metadata": {},
   "outputs": [],
   "source": [
    "campeãoDeVendas = vendas_produtos[vendas_produtos == max(vendas_produtos)]\n",
    "print(campeãoDeVendas)"
   ]
  },
  {
   "cell_type": "markdown",
   "metadata": {},
   "source": [
    "### Distribuição do volume de vendas por Grupos  do item 2 (item 6)"
   ]
  },
  {
   "cell_type": "code",
   "execution_count": null,
   "metadata": {},
   "outputs": [],
   "source": [
    "vendas.grupo.hist(figsize=figsize)"
   ]
  },
  {
   "cell_type": "markdown",
   "metadata": {},
   "source": [
    "# Simulando uma estratégia de compra e venda de ações\n",
    "\n",
    "\n",
    "## Instalando biblioteca de dados\n",
    "Primeiramente, precisamos instalar o módulo pandas-datareader\n",
    "Digite no PowerShell: ```conda install pandas-datareader```"
   ]
  },
  {
   "cell_type": "markdown",
   "metadata": {},
   "source": [
    "## Importando valores das ações da Petrobrás disponíveis no google finance"
   ]
  },
  {
   "cell_type": "code",
   "execution_count": null,
   "metadata": {},
   "outputs": [],
   "source": [
    "# Uma atualização recente do site do google_finance retirou a opção de baixar todo o histórico dos dados\n",
    "# enquanto o time do pandas_datareader trabalha nesta atualização, baixaremos os dados manualmente pelo link:\n",
    "\n",
    "# https://finance.google.com/finance/historical?cid=868181216622781&startdate=Sep+27%2C+2004&enddate=Sep+26%2C+2017&num=30&ei=rqjJWaiKFIXpmAH5kIDADg\n",
    "\n",
    "\"\"\"\n",
    "# Comandos com o pandas_datareader\n",
    "# import pandas_datareader.data as pdr_data\n",
    "\n",
    "# PETR4 = pdr_data.DataReader('BVMF:PETR4', 'google')['Close']\n",
    "\"\"\"\n",
    "\n",
    "PETR4 = pd.read_csv('./dados/petr4.csv')[['Close', 'Date']]\n",
    "\n",
    "PETR4.describe()"
   ]
  },
  {
   "cell_type": "code",
   "execution_count": null,
   "metadata": {},
   "outputs": [],
   "source": [
    "PETR4.columns"
   ]
  },
  {
   "cell_type": "code",
   "execution_count": null,
   "metadata": {
    "collapsed": true
   },
   "outputs": [],
   "source": [
    "PETR4.loc[:, 'Date'] = PETR4.loc[:, 'Date'].apply(pd.to_datetime)\n",
    "PETR4.set_index('Date', inplace=True)"
   ]
  },
  {
   "cell_type": "code",
   "execution_count": null,
   "metadata": {},
   "outputs": [],
   "source": [
    "PETR4.head()"
   ]
  },
  {
   "cell_type": "code",
   "execution_count": null,
   "metadata": {},
   "outputs": [],
   "source": [
    "PETR4.plot(figsize=figsize)"
   ]
  },
  {
   "cell_type": "markdown",
   "metadata": {},
   "source": [
    "### Estratégia de investimento\n",
    "1. Todos os dias analizamos o mercado e fazemos um posicionamento que será desfeito no dia seguinte.\n",
    "\n",
    "2. Dois tipos de posicionamento:\n",
    "    1. Posição \"Comprado\": compra o ativo no dia n e vende no dia n+1.\n",
    "    2. Posição \"Vendido\": vende o ativo no dia n e o compra de volta no dia n+1.\n",
    "\n",
    "3. Os rendimentos são calculados diariamente, de acordo com a variação percentual diária do ativo:\n",
    "# <center> $ret_n = \\frac{x_{n-1} - x_{n}}{x_{n}}$</center>\n",
    "\n",
    "4. Os ganhos nas posições \"Comprado\" e \"Vendido\" possuem \"sinais\" diferentes:\n",
    "    1. \"Comprado\":\n",
    "        - ganha-se quando o ativo valoriza (i.e., quando seu preço aumenta);\n",
    "        - possui sinal positivo - o ganho percentual é calculado pela equação em do item 3.\n",
    "    2. \"Vendido\":\n",
    "        - ganha-se quando o ativo desvaloriza (i.e., quando seu preço diminui);\n",
    "        - possui sinal negativo - o ganho percentual é calculado pela equação em do item 3 multiplicado por $-1$.\n",
    "\n",
    "5. O ganho acumulado é dado pelo produtório acumulado de 1 + os ganhos diários:\n",
    "\n",
    "# <center> $g_n = \\prod_{i=0}^{n}(1+ret_i)$ </center>\n",
    "\n",
    "\n",
    "Obs.: a posição \"Vendido\" também é conhecida como \"short selling\""
   ]
  },
  {
   "cell_type": "markdown",
   "metadata": {},
   "source": [
    "### Determinando os estados \"Comprado\" ou \"Vendido\" com uma Estratégia de Cruzamento de Médias Móveis:\n",
    "\n",
    "#### 1 - Média de Janela Curta: filtra ruídos dos dados, mas mantém pequenas variações"
   ]
  },
  {
   "cell_type": "code",
   "execution_count": null,
   "metadata": {},
   "outputs": [],
   "source": [
    "ma_short = PETR4.rolling(22).mean()  # 22 = 1 mês (22 dias úteis)\n",
    "ax = PETR4.iloc[100:300].plot(linewidth=0.75, figsize=figsize)\n",
    "ax = ma_short.iloc[100:300].plot(ax=ax)"
   ]
  },
  {
   "cell_type": "markdown",
   "metadata": {},
   "source": [
    "#### 2 - Média de Janela Longa: filtra ruídos dos dados e as pequenas variações, mas mantém a tendência do sinal"
   ]
  },
  {
   "cell_type": "code",
   "execution_count": null,
   "metadata": {},
   "outputs": [],
   "source": [
    "ma_long = PETR4.rolling(44).mean()  # 44 = 2 meses (44 dias úteis)\n",
    "ax = PETR4.iloc[100:300].plot(linewidth=0.75, figsize=figsize)\n",
    "ax = ma_long.iloc[100:300].plot(ax=ax)"
   ]
  },
  {
   "cell_type": "markdown",
   "metadata": {},
   "source": [
    "### Cruzamento das Médias Móveis"
   ]
  },
  {
   "cell_type": "code",
   "execution_count": null,
   "metadata": {},
   "outputs": [],
   "source": [
    "ax = PETR4.iloc[100:300].plot(linewidth=0.75, figsize=figsize)\n",
    "ax = ma_short.iloc[100:300].plot(ax=ax)\n",
    "ax = ma_long.iloc[100:300].plot(ax=ax)"
   ]
  },
  {
   "cell_type": "markdown",
   "metadata": {},
   "source": [
    "### Calculando os sinais"
   ]
  },
  {
   "cell_type": "code",
   "execution_count": null,
   "metadata": {},
   "outputs": [],
   "source": [
    "sinais = ma_short - ma_long\n",
    "ax = sinais.plot(figsize=figsize)\n",
    "sinais = sinais.apply(np.sign)\n",
    "sinais.plot(ax=ax)"
   ]
  },
  {
   "cell_type": "markdown",
   "metadata": {},
   "source": [
    "### Calculando a variação percentual diária\n",
    "\n",
    "Utilizamos o método .pct_change() do pandas.DataFrame()"
   ]
  },
  {
   "cell_type": "code",
   "execution_count": null,
   "metadata": {},
   "outputs": [],
   "source": [
    "ret = PETR4.pct_change()\n",
    "ax = ret.plot(figsize=figsize)"
   ]
  },
  {
   "cell_type": "markdown",
   "metadata": {},
   "source": [
    "### Obtendo os retornos diários"
   ]
  },
  {
   "cell_type": "code",
   "execution_count": null,
   "metadata": {},
   "outputs": [],
   "source": [
    "redimentos_diários = ret*sinais\n",
    "redimentos_diários.plot(figsize=figsize)"
   ]
  },
  {
   "cell_type": "markdown",
   "metadata": {},
   "source": [
    "### Calculando o Rendimento acumulado"
   ]
  },
  {
   "cell_type": "code",
   "execution_count": null,
   "metadata": {},
   "outputs": [],
   "source": [
    "    redimento_acumulado = (redimentos_diários+1).cumprod()\n",
    "    redimento_acumulado.plot(figsize=figsize)"
   ]
  }
 ],
 "metadata": {
  "kernelspec": {
   "display_name": "Python 3",
   "language": "python",
   "name": "python3"
  },
  "language_info": {
   "codemirror_mode": {
    "name": "ipython",
    "version": 3
   },
   "file_extension": ".py",
   "mimetype": "text/x-python",
   "name": "python",
   "nbconvert_exporter": "python",
   "pygments_lexer": "ipython3",
   "version": "3.5.2"
  }
 },
 "nbformat": 4,
 "nbformat_minor": 2
}
